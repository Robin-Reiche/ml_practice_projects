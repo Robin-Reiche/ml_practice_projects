{
 "cells": [
  {
   "cell_type": "code",
   "execution_count": 1,
   "metadata": {
    "id": "3EGyqChwLadm"
   },
   "outputs": [],
   "source": [
    "# Schritt 1: Definiere eine Variable namens 'list_of_salaries', die eine Liste der folgenden Gehälter enthält: 64000, 53000, 69000, 34000, 39000, 68000, 85000.\n",
    "\n",
    "list_of_salaries = [64000, 53000, 69000, 34000, 39000, 68000, 85000]"
   ]
  },
  {
   "cell_type": "code",
   "execution_count": 2,
   "metadata": {
    "id": "AQxwTDfq0qyQ"
   },
   "outputs": [
    {
     "name": "stdout",
     "output_type": "stream",
     "text": [
      "Ja\n",
      "Ja\n",
      "Ja\n",
      "Nein\n",
      "Nein\n",
      "Ja\n",
      "Ja\n"
     ]
    }
   ],
   "source": [
    "# Schritt 2: Implementiere eine For-Schleife, die alle Gehälter durchläuft und \"Ja\" ausgibt, wenn das Gehalt über 52500 liegt, andernfalls \"Nein\".\n",
    "\n",
    "for salary in list_of_salaries:\n",
    "    if salary > 52500:\n",
    "        print(\"Ja\")\n",
    "    else:\n",
    "        print(\"Nein\")"
   ]
  }
 ],
 "metadata": {
  "colab": {
   "provenance": []
  },
  "kernelspec": {
   "display_name": "Python 3",
   "name": "python3"
  },
  "language_info": {
   "codemirror_mode": {
    "name": "ipython",
    "version": 3
   },
   "file_extension": ".py",
   "mimetype": "text/x-python",
   "name": "python",
   "nbconvert_exporter": "python",
   "pygments_lexer": "ipython3",
   "version": "3.13.1"
  }
 },
 "nbformat": 4,
 "nbformat_minor": 0
}
