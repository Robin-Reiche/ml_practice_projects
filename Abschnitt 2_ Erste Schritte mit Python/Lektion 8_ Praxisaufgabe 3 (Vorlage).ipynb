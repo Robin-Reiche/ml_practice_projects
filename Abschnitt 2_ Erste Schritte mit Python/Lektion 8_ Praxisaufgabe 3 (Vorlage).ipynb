{
 "cells": [
  {
   "cell_type": "code",
   "execution_count": 2,
   "metadata": {
    "id": "XIybZ2vlPUOJ"
   },
   "outputs": [],
   "source": [
    "salaries = [64000, 53000, 69000, 34000, 39000, 68000, 85000]"
   ]
  },
  {
   "cell_type": "code",
   "execution_count": 3,
   "metadata": {
    "id": "AQxwTDfq0qyQ"
   },
   "outputs": [],
   "source": [
    "# Schritt 1: Definiere eine Funktion namens 'check_salaries', die einen Parameter namens 'list_of_salaries' akzeptiert.\n",
    "# Diese Funktion durchläuft alle Gehälter in der Liste. Wenn ein Gehalt über 52500 liegt, gibt die Funktion \"Ja\" aus. Andernfalls gibt sie \"Nein\" aus.\n",
    "\n",
    "def check_salaries(list_of_salaries, decision_limit):\n",
    "    for salary in list_of_salaries:\n",
    "        if salary > decision_limit:\n",
    "            print(\"Ja\")\n",
    "        else:\n",
    "            print(\"Nein\")"
   ]
  },
  {
   "cell_type": "code",
   "execution_count": 5,
   "metadata": {
    "id": "pt_8thibUDFv"
   },
   "outputs": [
    {
     "name": "stdout",
     "output_type": "stream",
     "text": [
      "Ja\n",
      "Ja\n",
      "Ja\n",
      "Ja\n",
      "Ja\n",
      "Ja\n",
      "Ja\n"
     ]
    }
   ],
   "source": [
    "# Schritt 2: Führe folgende Codezelle aus, um dir die Ergebnisse ausgeben zu lassen.\n",
    "check_salaries(salaries, 20000)"
   ]
  },
  {
   "cell_type": "code",
   "execution_count": null,
   "metadata": {
    "id": "fj_wFiqJWyFj"
   },
   "outputs": [],
   "source": [
    "# (Bonus) Schritt 3: Erweitere die Funktion, indem du einen zweiten Parameter mit dem Namen 'decision_limit' hinzufügst, um verschiedene Entscheidungsgrenzen ausprobieren zu können.\n",
    "# Ändere den Funktionsaufruf aus Schritt 2 ab, indem du die Funktion einmal mit 'check_salaries(salaries, 90000)' und einmal mit 'check_salaries(salaries, 20000)' aufrufst."
   ]
  }
 ],
 "metadata": {
  "colab": {
   "provenance": []
  },
  "kernelspec": {
   "display_name": "Python 3",
   "name": "python3"
  },
  "language_info": {
   "codemirror_mode": {
    "name": "ipython",
    "version": 3
   },
   "file_extension": ".py",
   "mimetype": "text/x-python",
   "name": "python",
   "nbconvert_exporter": "python",
   "pygments_lexer": "ipython3",
   "version": "3.13.1"
  }
 },
 "nbformat": 4,
 "nbformat_minor": 0
}
