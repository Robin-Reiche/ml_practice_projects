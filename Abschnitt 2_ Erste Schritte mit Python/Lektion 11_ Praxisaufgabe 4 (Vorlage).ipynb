{
 "cells": [
  {
   "cell_type": "code",
   "execution_count": 5,
   "metadata": {
    "id": "AQxwTDfq0qyQ"
   },
   "outputs": [],
   "source": [
    "# Schritt 1: Importiere die pandas-Bibliothek, um die Datei \"sales_data.csv\" einzulesen. Speichere die Daten in der Variable 'df' ab und gib sie anschließend aus.\n",
    "\n",
    "import pandas as pd\n",
    "\n",
    "df = pd.read_csv(\"C:/Users/robin/Desktop/Machine Learning/Abschnitt 2_ Erste Schritte mit Python/sales_data.csv\")"
   ]
  },
  {
   "cell_type": "code",
   "execution_count": 6,
   "metadata": {
    "id": "pt_8thibUDFv"
   },
   "outputs": [
    {
     "data": {
      "text/plain": [
       "np.float64(5500.0)"
      ]
     },
     "execution_count": 6,
     "metadata": {},
     "output_type": "execute_result"
    }
   ],
   "source": [
    "# Schritt 2: Gib den Durchschnitt der Werte in der Spalte \"Sales\" aus.\n",
    "# Tipp: Verwende '.mean()'\n",
    "\n",
    "df[\"Sales\"].mean()"
   ]
  },
  {
   "cell_type": "code",
   "execution_count": 10,
   "metadata": {
    "id": "OUQpFQmekhMQ"
   },
   "outputs": [
    {
     "ename": "ModuleNotFoundError",
     "evalue": "No module named 'seaborn'",
     "output_type": "error",
     "traceback": [
      "\u001b[1;31m---------------------------------------------------------------------------\u001b[0m",
      "\u001b[1;31mModuleNotFoundError\u001b[0m                       Traceback (most recent call last)",
      "Cell \u001b[1;32mIn[10], line 1\u001b[0m\n\u001b[1;32m----> 1\u001b[0m \u001b[38;5;28;01mimport\u001b[39;00m\u001b[38;5;250m \u001b[39m\u001b[38;5;21;01mseaborn\u001b[39;00m\u001b[38;5;250m \u001b[39m\u001b[38;5;28;01mas\u001b[39;00m\u001b[38;5;250m \u001b[39m\u001b[38;5;21;01msns\u001b[39;00m\n\u001b[0;32m      3\u001b[0m \u001b[38;5;66;03m# # (Bonus) Schritt 3: Ergänze den untenstehenden Code, indem du den Parameter 'x' auf die Spalte \"Website-Traffic\" setzt und den Parameter 'y' auf die Spalte \"Sales\".\u001b[39;00m\n\u001b[0;32m      4\u001b[0m \u001b[38;5;66;03m# sns.scatterplot(x=df[\"Website-Traffic\"],y=df[\"Sales\"])\u001b[39;00m\n",
      "\u001b[1;31mModuleNotFoundError\u001b[0m: No module named 'seaborn'"
     ]
    }
   ],
   "source": [
    "import seaborn as sns\n",
    "\n",
    "# # (Bonus) Schritt 3: Ergänze den untenstehenden Code, indem du den Parameter 'x' auf die Spalte \"Website-Traffic\" setzt und den Parameter 'y' auf die Spalte \"Sales\".\n",
    "# sns.scatterplot(x=df[\"Website-Traffic\"],y=df[\"Sales\"])"
   ]
  }
 ],
 "metadata": {
  "colab": {
   "provenance": []
  },
  "kernelspec": {
   "display_name": "Python 3",
   "name": "python3"
  },
  "language_info": {
   "codemirror_mode": {
    "name": "ipython",
    "version": 3
   },
   "file_extension": ".py",
   "mimetype": "text/x-python",
   "name": "python",
   "nbconvert_exporter": "python",
   "pygments_lexer": "ipython3",
   "version": "3.13.1"
  }
 },
 "nbformat": 4,
 "nbformat_minor": 0
}
