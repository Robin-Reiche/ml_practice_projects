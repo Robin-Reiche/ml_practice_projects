{
 "cells": [
  {
   "cell_type": "code",
   "execution_count": 4,
   "metadata": {
    "id": "TdC24Uzp3uRx"
   },
   "outputs": [],
   "source": [
    "# Schritt 1: Definiere eine Variable namens 'salary' und weise ihr den Wert 42630 zu.\n",
    "\n",
    "salary = 75000"
   ]
  },
  {
   "cell_type": "code",
   "execution_count": 5,
   "metadata": {
    "id": "1WQLfftn0NbB"
   },
   "outputs": [
    {
     "name": "stdout",
     "output_type": "stream",
     "text": [
      "Ja\n"
     ]
    }
   ],
   "source": [
    "# Schritt 2: Implementiere eine if-else-Verzweigung, die \"Ja\" ausgibt, wenn salary über 52500 liegt, und \"Nein\", wenn es darunter liegt.\n",
    "\n",
    "if salary > 52500:\n",
    "    print(\"Ja\")\n",
    "else:\n",
    "    print(\"Nein\")"
   ]
  },
  {
   "cell_type": "code",
   "execution_count": null,
   "metadata": {
    "id": "eursQcDw0S-Q"
   },
   "outputs": [],
   "source": [
    "# Schritt3: Ändere den Wert der Variable 'salary' auf 75000 ab, um zu sehen, ob du die Abzweigung korrekt implementiert hast."
   ]
  }
 ],
 "metadata": {
  "colab": {
   "provenance": []
  },
  "kernelspec": {
   "display_name": "Python 3",
   "name": "python3"
  },
  "language_info": {
   "codemirror_mode": {
    "name": "ipython",
    "version": 3
   },
   "file_extension": ".py",
   "mimetype": "text/x-python",
   "name": "python",
   "nbconvert_exporter": "python",
   "pygments_lexer": "ipython3",
   "version": "3.13.1"
  }
 },
 "nbformat": 4,
 "nbformat_minor": 0
}
